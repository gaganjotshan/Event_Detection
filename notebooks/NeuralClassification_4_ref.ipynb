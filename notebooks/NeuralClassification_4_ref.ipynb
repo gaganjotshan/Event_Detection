{
 "cells": [
  {
   "cell_type": "code",
   "execution_count": 1,
   "metadata": {
    "colab": {
     "base_uri": "https://localhost:8080/"
    },
    "executionInfo": {
     "elapsed": 5109,
     "status": "ok",
     "timestamp": 1654540218733,
     "user": {
      "displayName": "Gaganjot Shan",
      "userId": "18300755219130239353"
     },
     "user_tz": -120
    },
    "id": "9B32JiKJWp1y",
    "outputId": "ae62ee83-6fe2-44ee-b959-b98a506327f1"
   },
   "outputs": [
    {
     "name": "stdout",
     "output_type": "stream",
     "text": [
      "Collecting keras==2.8\n",
      "  Using cached keras-2.8.0-py2.py3-none-any.whl (1.4 MB)\n",
      "Installing collected packages: keras\n",
      "  Attempting uninstall: keras\n",
      "    Found existing installation: keras 2.9.0\n",
      "    Uninstalling keras-2.9.0:\n",
      "      Successfully uninstalled keras-2.9.0\n",
      "\u001b[31mERROR: pip's dependency resolver does not currently take into account all the packages that are installed. This behaviour is the source of the following dependency conflicts.\n",
      "tensorflow 2.9.1 requires keras<2.10.0,>=2.9.0rc0, but you have keras 2.8.0 which is incompatible.\u001b[0m\u001b[31m\n",
      "\u001b[0mSuccessfully installed keras-2.8.0\n"
     ]
    }
   ],
   "source": [
    "!pip install keras==2.8"
   ]
  },
  {
   "cell_type": "code",
   "execution_count": 2,
   "metadata": {
    "colab": {
     "base_uri": "https://localhost:8080/"
    },
    "executionInfo": {
     "elapsed": 3201,
     "status": "ok",
     "timestamp": 1654540221930,
     "user": {
      "displayName": "Gaganjot Shan",
      "userId": "18300755219130239353"
     },
     "user_tz": -120
    },
    "id": "8RNK8tDbXyBQ",
    "outputId": "732b7b1b-ea38-483b-e2fd-7d6fd8daaedf"
   },
   "outputs": [
    {
     "name": "stdout",
     "output_type": "stream",
     "text": [
      "Requirement already satisfied: api in /Users/shan/opt/anaconda3/lib/python3.9/site-packages (0.0.7)\r\n",
      "Requirement already satisfied: nose in /Users/shan/opt/anaconda3/lib/python3.9/site-packages (from api) (1.3.7)\r\n",
      "Requirement already satisfied: requests in /Users/shan/opt/anaconda3/lib/python3.9/site-packages (from api) (2.26.0)\r\n",
      "Requirement already satisfied: charset-normalizer~=2.0.0 in /Users/shan/opt/anaconda3/lib/python3.9/site-packages (from requests->api) (2.0.4)\r\n",
      "Requirement already satisfied: certifi>=2017.4.17 in /Users/shan/opt/anaconda3/lib/python3.9/site-packages (from requests->api) (2021.10.8)\r\n",
      "Requirement already satisfied: urllib3<1.27,>=1.21.1 in /Users/shan/opt/anaconda3/lib/python3.9/site-packages (from requests->api) (1.26.7)\r\n",
      "Requirement already satisfied: idna<4,>=2.5 in /Users/shan/opt/anaconda3/lib/python3.9/site-packages (from requests->api) (3.2)\r\n"
     ]
    }
   ],
   "source": [
    "!pip install api"
   ]
  },
  {
   "cell_type": "code",
   "execution_count": 3,
   "metadata": {
    "colab": {
     "base_uri": "https://localhost:8080/"
    },
    "executionInfo": {
     "elapsed": 2524,
     "status": "ok",
     "timestamp": 1654540224449,
     "user": {
      "displayName": "Gaganjot Shan",
      "userId": "18300755219130239353"
     },
     "user_tz": -120
    },
    "id": "eJZcdHw-vMcN",
    "outputId": "7ef37ce4-0827-4712-c874-e148281b4487"
   },
   "outputs": [
    {
     "name": "stdout",
     "output_type": "stream",
     "text": [
      "Requirement already satisfied: keras_vggface in /Users/shan/opt/anaconda3/lib/python3.9/site-packages (0.6)\r\n",
      "Requirement already satisfied: keras in /Users/shan/opt/anaconda3/lib/python3.9/site-packages (from keras_vggface) (2.8.0)\r\n",
      "Requirement already satisfied: six>=1.9.0 in /Users/shan/opt/anaconda3/lib/python3.9/site-packages (from keras_vggface) (1.16.0)\r\n",
      "Requirement already satisfied: scipy>=0.14 in /Users/shan/opt/anaconda3/lib/python3.9/site-packages (from keras_vggface) (1.7.1)\r\n",
      "Requirement already satisfied: pillow in /Users/shan/opt/anaconda3/lib/python3.9/site-packages (from keras_vggface) (8.4.0)\r\n",
      "Requirement already satisfied: h5py in /Users/shan/opt/anaconda3/lib/python3.9/site-packages (from keras_vggface) (3.2.1)\r\n",
      "Requirement already satisfied: numpy>=1.9.1 in /Users/shan/opt/anaconda3/lib/python3.9/site-packages (from keras_vggface) (1.20.3)\r\n",
      "Requirement already satisfied: pyyaml in /Users/shan/opt/anaconda3/lib/python3.9/site-packages (from keras_vggface) (6.0)\r\n"
     ]
    }
   ],
   "source": [
    "!pip install keras_vggface"
   ]
  },
  {
   "cell_type": "code",
   "execution_count": 4,
   "metadata": {
    "executionInfo": {
     "elapsed": 5,
     "status": "ok",
     "timestamp": 1654540224449,
     "user": {
      "displayName": "Gaganjot Shan",
      "userId": "18300755219130239353"
     },
     "user_tz": -120
    },
    "id": "v9Yfb7WJMQwo"
   },
   "outputs": [],
   "source": [
    "#!pip install tensorflow-cpu"
   ]
  },
  {
   "cell_type": "code",
   "execution_count": 5,
   "metadata": {},
   "outputs": [
    {
     "name": "stdout",
     "output_type": "stream",
     "text": [
      "Requirement already satisfied: tensor in /Users/shan/opt/anaconda3/lib/python3.9/site-packages (0.3.6)\n",
      "Requirement already satisfied: Twisted in /Users/shan/opt/anaconda3/lib/python3.9/site-packages (from tensor) (22.4.0)\n",
      "Requirement already satisfied: pysnmp in /Users/shan/opt/anaconda3/lib/python3.9/site-packages (from tensor) (4.4.12)\n",
      "Requirement already satisfied: protobuf in /Users/shan/opt/anaconda3/lib/python3.9/site-packages (from tensor) (3.19.4)\n",
      "Requirement already satisfied: PyYaml in /Users/shan/opt/anaconda3/lib/python3.9/site-packages (from tensor) (6.0)\n",
      "Requirement already satisfied: construct in /Users/shan/opt/anaconda3/lib/python3.9/site-packages (from tensor) (2.10.68)\n",
      "Requirement already satisfied: pysmi in /Users/shan/opt/anaconda3/lib/python3.9/site-packages (from pysnmp->tensor) (0.3.4)\n",
      "Requirement already satisfied: pycryptodomex in /Users/shan/opt/anaconda3/lib/python3.9/site-packages (from pysnmp->tensor) (3.14.1)\n",
      "Requirement already satisfied: pyasn1>=0.2.3 in /Users/shan/opt/anaconda3/lib/python3.9/site-packages (from pysnmp->tensor) (0.4.8)\n",
      "Requirement already satisfied: hyperlink>=17.1.1 in /Users/shan/opt/anaconda3/lib/python3.9/site-packages (from Twisted->tensor) (21.0.0)\n",
      "Requirement already satisfied: Automat>=0.8.0 in /Users/shan/opt/anaconda3/lib/python3.9/site-packages (from Twisted->tensor) (20.2.0)\n",
      "Requirement already satisfied: attrs>=19.2.0 in /Users/shan/opt/anaconda3/lib/python3.9/site-packages (from Twisted->tensor) (21.2.0)\n",
      "Requirement already satisfied: incremental>=21.3.0 in /Users/shan/opt/anaconda3/lib/python3.9/site-packages (from Twisted->tensor) (21.3.0)\n",
      "Requirement already satisfied: typing-extensions>=3.6.5 in /Users/shan/opt/anaconda3/lib/python3.9/site-packages (from Twisted->tensor) (3.10.0.2)\n",
      "Requirement already satisfied: constantly>=15.1 in /Users/shan/opt/anaconda3/lib/python3.9/site-packages (from Twisted->tensor) (15.1.0)\n",
      "Requirement already satisfied: zope.interface>=4.4.2 in /Users/shan/opt/anaconda3/lib/python3.9/site-packages (from Twisted->tensor) (5.4.0)\n",
      "Requirement already satisfied: six in /Users/shan/opt/anaconda3/lib/python3.9/site-packages (from Automat>=0.8.0->Twisted->tensor) (1.16.0)\n",
      "Requirement already satisfied: idna>=2.5 in /Users/shan/opt/anaconda3/lib/python3.9/site-packages (from hyperlink>=17.1.1->Twisted->tensor) (3.2)\n",
      "Requirement already satisfied: setuptools in /Users/shan/opt/anaconda3/lib/python3.9/site-packages (from zope.interface>=4.4.2->Twisted->tensor) (58.0.4)\n",
      "Requirement already satisfied: ply in /Users/shan/opt/anaconda3/lib/python3.9/site-packages (from pysmi->pysnmp->tensor) (3.11)\n"
     ]
    }
   ],
   "source": [
    "!pip install tensor\n"
   ]
  },
  {
   "cell_type": "code",
   "execution_count": 6,
   "metadata": {},
   "outputs": [
    {
     "name": "stdout",
     "output_type": "stream",
     "text": [
      "Requirement already satisfied: tensorflow in /Users/shan/opt/anaconda3/lib/python3.9/site-packages (2.9.1)\n",
      "Requirement already satisfied: packaging in /Users/shan/opt/anaconda3/lib/python3.9/site-packages (from tensorflow) (21.0)\n",
      "Requirement already satisfied: numpy>=1.20 in /Users/shan/opt/anaconda3/lib/python3.9/site-packages (from tensorflow) (1.20.3)\n",
      "Requirement already satisfied: tensorboard<2.10,>=2.9 in /Users/shan/opt/anaconda3/lib/python3.9/site-packages (from tensorflow) (2.9.0)\n",
      "Requirement already satisfied: tensorflow-io-gcs-filesystem>=0.23.1 in /Users/shan/opt/anaconda3/lib/python3.9/site-packages (from tensorflow) (0.26.0)\n",
      "Requirement already satisfied: tensorflow-estimator<2.10.0,>=2.9.0rc0 in /Users/shan/opt/anaconda3/lib/python3.9/site-packages (from tensorflow) (2.9.0)\n",
      "Requirement already satisfied: h5py>=2.9.0 in /Users/shan/opt/anaconda3/lib/python3.9/site-packages (from tensorflow) (3.2.1)\n",
      "Requirement already satisfied: termcolor>=1.1.0 in /Users/shan/opt/anaconda3/lib/python3.9/site-packages (from tensorflow) (1.1.0)\n",
      "Requirement already satisfied: grpcio<2.0,>=1.24.3 in /Users/shan/opt/anaconda3/lib/python3.9/site-packages (from tensorflow) (1.46.3)\n",
      "Requirement already satisfied: typing-extensions>=3.6.6 in /Users/shan/opt/anaconda3/lib/python3.9/site-packages (from tensorflow) (3.10.0.2)\n",
      "Requirement already satisfied: wrapt>=1.11.0 in /Users/shan/opt/anaconda3/lib/python3.9/site-packages (from tensorflow) (1.12.1)\n",
      "Requirement already satisfied: libclang>=13.0.0 in /Users/shan/opt/anaconda3/lib/python3.9/site-packages (from tensorflow) (14.0.1)\n",
      "Requirement already satisfied: google-pasta>=0.1.1 in /Users/shan/opt/anaconda3/lib/python3.9/site-packages (from tensorflow) (0.2.0)\n",
      "Requirement already satisfied: gast<=0.4.0,>=0.2.1 in /Users/shan/opt/anaconda3/lib/python3.9/site-packages (from tensorflow) (0.4.0)\n",
      "Requirement already satisfied: absl-py>=1.0.0 in /Users/shan/opt/anaconda3/lib/python3.9/site-packages (from tensorflow) (1.1.0)\n",
      "Requirement already satisfied: protobuf<3.20,>=3.9.2 in /Users/shan/opt/anaconda3/lib/python3.9/site-packages (from tensorflow) (3.19.4)\n",
      "Collecting keras<2.10.0,>=2.9.0rc0\n",
      "  Using cached keras-2.9.0-py2.py3-none-any.whl (1.6 MB)\n",
      "Requirement already satisfied: setuptools in /Users/shan/opt/anaconda3/lib/python3.9/site-packages (from tensorflow) (58.0.4)\n",
      "Requirement already satisfied: six>=1.12.0 in /Users/shan/opt/anaconda3/lib/python3.9/site-packages (from tensorflow) (1.16.0)\n",
      "Requirement already satisfied: flatbuffers<2,>=1.12 in /Users/shan/opt/anaconda3/lib/python3.9/site-packages (from tensorflow) (1.12)\n",
      "Requirement already satisfied: opt-einsum>=2.3.2 in /Users/shan/opt/anaconda3/lib/python3.9/site-packages (from tensorflow) (3.3.0)\n",
      "Requirement already satisfied: keras-preprocessing>=1.1.1 in /Users/shan/opt/anaconda3/lib/python3.9/site-packages (from tensorflow) (1.1.2)\n",
      "Requirement already satisfied: astunparse>=1.6.0 in /Users/shan/opt/anaconda3/lib/python3.9/site-packages (from tensorflow) (1.6.3)\n",
      "Requirement already satisfied: wheel<1.0,>=0.23.0 in /Users/shan/opt/anaconda3/lib/python3.9/site-packages (from astunparse>=1.6.0->tensorflow) (0.37.0)\n",
      "Requirement already satisfied: google-auth-oauthlib<0.5,>=0.4.1 in /Users/shan/opt/anaconda3/lib/python3.9/site-packages (from tensorboard<2.10,>=2.9->tensorflow) (0.4.6)\n",
      "Requirement already satisfied: werkzeug>=1.0.1 in /Users/shan/opt/anaconda3/lib/python3.9/site-packages (from tensorboard<2.10,>=2.9->tensorflow) (2.0.2)\n",
      "Requirement already satisfied: requests<3,>=2.21.0 in /Users/shan/opt/anaconda3/lib/python3.9/site-packages (from tensorboard<2.10,>=2.9->tensorflow) (2.26.0)\n",
      "Requirement already satisfied: tensorboard-data-server<0.7.0,>=0.6.0 in /Users/shan/opt/anaconda3/lib/python3.9/site-packages (from tensorboard<2.10,>=2.9->tensorflow) (0.6.1)\n",
      "Requirement already satisfied: google-auth<3,>=1.6.3 in /Users/shan/opt/anaconda3/lib/python3.9/site-packages (from tensorboard<2.10,>=2.9->tensorflow) (2.6.6)\n",
      "Requirement already satisfied: tensorboard-plugin-wit>=1.6.0 in /Users/shan/opt/anaconda3/lib/python3.9/site-packages (from tensorboard<2.10,>=2.9->tensorflow) (1.8.1)\n",
      "Requirement already satisfied: markdown>=2.6.8 in /Users/shan/opt/anaconda3/lib/python3.9/site-packages (from tensorboard<2.10,>=2.9->tensorflow) (3.3.7)\n",
      "Requirement already satisfied: pyparsing>=2.0.2 in /Users/shan/opt/anaconda3/lib/python3.9/site-packages (from packaging->tensorflow) (3.0.4)\n",
      "Requirement already satisfied: rsa<5,>=3.1.4 in /Users/shan/opt/anaconda3/lib/python3.9/site-packages (from google-auth<3,>=1.6.3->tensorboard<2.10,>=2.9->tensorflow) (4.8)\n",
      "Requirement already satisfied: cachetools<6.0,>=2.0.0 in /Users/shan/opt/anaconda3/lib/python3.9/site-packages (from google-auth<3,>=1.6.3->tensorboard<2.10,>=2.9->tensorflow) (5.2.0)\n",
      "Requirement already satisfied: pyasn1-modules>=0.2.1 in /Users/shan/opt/anaconda3/lib/python3.9/site-packages (from google-auth<3,>=1.6.3->tensorboard<2.10,>=2.9->tensorflow) (0.2.8)\n",
      "Requirement already satisfied: requests-oauthlib>=0.7.0 in /Users/shan/opt/anaconda3/lib/python3.9/site-packages (from google-auth-oauthlib<0.5,>=0.4.1->tensorboard<2.10,>=2.9->tensorflow) (1.3.1)\n",
      "Requirement already satisfied: importlib-metadata>=4.4 in /Users/shan/opt/anaconda3/lib/python3.9/site-packages (from markdown>=2.6.8->tensorboard<2.10,>=2.9->tensorflow) (4.8.1)\n",
      "Requirement already satisfied: certifi>=2017.4.17 in /Users/shan/opt/anaconda3/lib/python3.9/site-packages (from requests<3,>=2.21.0->tensorboard<2.10,>=2.9->tensorflow) (2021.10.8)\n",
      "Requirement already satisfied: charset-normalizer~=2.0.0 in /Users/shan/opt/anaconda3/lib/python3.9/site-packages (from requests<3,>=2.21.0->tensorboard<2.10,>=2.9->tensorflow) (2.0.4)\n",
      "Requirement already satisfied: idna<4,>=2.5 in /Users/shan/opt/anaconda3/lib/python3.9/site-packages (from requests<3,>=2.21.0->tensorboard<2.10,>=2.9->tensorflow) (3.2)\n",
      "Requirement already satisfied: urllib3<1.27,>=1.21.1 in /Users/shan/opt/anaconda3/lib/python3.9/site-packages (from requests<3,>=2.21.0->tensorboard<2.10,>=2.9->tensorflow) (1.26.7)\n",
      "Requirement already satisfied: zipp>=0.5 in /Users/shan/opt/anaconda3/lib/python3.9/site-packages (from importlib-metadata>=4.4->markdown>=2.6.8->tensorboard<2.10,>=2.9->tensorflow) (3.6.0)\n",
      "Requirement already satisfied: pyasn1<0.5.0,>=0.4.6 in /Users/shan/opt/anaconda3/lib/python3.9/site-packages (from pyasn1-modules>=0.2.1->google-auth<3,>=1.6.3->tensorboard<2.10,>=2.9->tensorflow) (0.4.8)\n",
      "Requirement already satisfied: oauthlib>=3.0.0 in /Users/shan/opt/anaconda3/lib/python3.9/site-packages (from requests-oauthlib>=0.7.0->google-auth-oauthlib<0.5,>=0.4.1->tensorboard<2.10,>=2.9->tensorflow) (3.2.0)\n",
      "Installing collected packages: keras\n",
      "  Attempting uninstall: keras\n",
      "    Found existing installation: keras 2.8.0\n",
      "    Uninstalling keras-2.8.0:\n",
      "      Successfully uninstalled keras-2.8.0\n",
      "Successfully installed keras-2.9.0\n",
      "Note: you may need to restart the kernel to use updated packages.\n"
     ]
    }
   ],
   "source": [
    "pip install tensorflow\n"
   ]
  },
  {
   "cell_type": "code",
   "execution_count": 7,
   "metadata": {
    "executionInfo": {
     "elapsed": 5,
     "status": "ok",
     "timestamp": 1654540224450,
     "user": {
      "displayName": "Gaganjot Shan",
      "userId": "18300755219130239353"
     },
     "user_tz": -120
    },
    "id": "oSrHYAI0MS8N"
   },
   "outputs": [],
   "source": [
    "#!pip install tensorflow-gpu "
   ]
  },
  {
   "cell_type": "code",
   "execution_count": 8,
   "metadata": {},
   "outputs": [
    {
     "name": "stdout",
     "output_type": "stream",
     "text": [
      "Requirement already satisfied: mxnet in /Users/shan/opt/anaconda3/lib/python3.9/site-packages (1.9.1)\r\n",
      "Requirement already satisfied: numpy<2.0.0,>1.16.0 in /Users/shan/opt/anaconda3/lib/python3.9/site-packages (from mxnet) (1.20.3)\r\n",
      "Requirement already satisfied: graphviz<0.9.0,>=0.8.1 in /Users/shan/opt/anaconda3/lib/python3.9/site-packages (from mxnet) (0.8.4)\r\n",
      "Requirement already satisfied: requests<3,>=2.20.0 in /Users/shan/opt/anaconda3/lib/python3.9/site-packages (from mxnet) (2.26.0)\r\n",
      "Requirement already satisfied: charset-normalizer~=2.0.0 in /Users/shan/opt/anaconda3/lib/python3.9/site-packages (from requests<3,>=2.20.0->mxnet) (2.0.4)\r\n",
      "Requirement already satisfied: urllib3<1.27,>=1.21.1 in /Users/shan/opt/anaconda3/lib/python3.9/site-packages (from requests<3,>=2.20.0->mxnet) (1.26.7)\r\n",
      "Requirement already satisfied: certifi>=2017.4.17 in /Users/shan/opt/anaconda3/lib/python3.9/site-packages (from requests<3,>=2.20.0->mxnet) (2021.10.8)\r\n",
      "Requirement already satisfied: idna<4,>=2.5 in /Users/shan/opt/anaconda3/lib/python3.9/site-packages (from requests<3,>=2.20.0->mxnet) (3.2)\r\n"
     ]
    }
   ],
   "source": [
    "!pip3 install mxnet"
   ]
  },
  {
   "cell_type": "code",
   "execution_count": null,
   "metadata": {
    "executionInfo": {
     "elapsed": 2806,
     "status": "ok",
     "timestamp": 1654540227252,
     "user": {
      "displayName": "Gaganjot Shan",
      "userId": "18300755219130239353"
     },
     "user_tz": -120
    },
    "id": "CtVeGyEj0Bvr"
   },
   "outputs": [],
   "source": [
    "import numpy as np\n",
    "np.random.seed(1337) \n",
    "import os \n",
    "import tensorflow as tf\n",
    "from keras import backend as K\n",
    "from keras.models import Model, Sequential\n",
    "from keras.layers import Concatenate, Embedding, Input, Dropout, Dense, Activation, Bidirectional, GlobalMaxPooling1D\n",
    "from keras.layers import Convolution1D, LSTM, GRU, CuDNNGRU, CuDNNLSTM, Permute, Lambda, Flatten\n",
    "from keras import optimizers\n",
    "#from keras.engine.topology import Layer\n",
    "#from keras.utils.layer_utils import Layer\n",
    "#from keras import layers\n",
    "from tensorflow.keras.layers import Layer, InputSpec\n",
    "from keras import regularizers\n",
    "from keras.models import load_model\n",
    "\n",
    "#os.environ['CUDA_VISIBLE_DEVICES'] = 1 "
   ]
  },
  {
   "cell_type": "code",
   "execution_count": null,
   "metadata": {
    "colab": {
     "base_uri": "https://localhost:8080/"
    },
    "executionInfo": {
     "elapsed": 1907,
     "status": "ok",
     "timestamp": 1654540229155,
     "user": {
      "displayName": "Gaganjot Shan",
      "userId": "18300755219130239353"
     },
     "user_tz": -120
    },
    "id": "pJeIvF2vDpZd",
    "outputId": "e1de69d0-83e0-454b-dc9d-ffbe5db53b81"
   },
   "outputs": [],
   "source": [
    "#from google.colab import drive\n",
    "#drive.mount('/content/drive')"
   ]
  },
  {
   "cell_type": "code",
   "execution_count": null,
   "metadata": {
    "executionInfo": {
     "elapsed": 5,
     "status": "ok",
     "timestamp": 1654540229155,
     "user": {
      "displayName": "Gaganjot Shan",
      "userId": "18300755219130239353"
     },
     "user_tz": -120
    },
    "id": "QgI9x5eN0xor"
   },
   "outputs": [],
   "source": [
    "data_npy_path = \"/Users/shan/Desktop/Event_Extraction/data/data_all.npy\"\n",
    "scorer_perl_script = \"/Users/shan/Desktop/Event_Extraction/Corpus/SemEval2010_task8_scorer-v1.2/semeval2010_task8_scorer-v1.2.pl\"\n",
    "train_answer_keys = '/Users/shan/Desktop/Event_Extraction/files/train_answer_keys.txt'\n",
    "val_answer_keys = '/Users/shan/Desktop/Event_Extraction/files/val_answer_keys.txt'\n",
    "test_answer_keys = '/Users/shan/Desktop/Event_Extraction/files/test_answer_keys.txt'\n",
    "\n",
    "proposed_ans = \"/Users/shan/Desktop/Event_Extraction/model/proposed_ans.txt\"\n",
    "scorer_output = \"/Users/shan/Desktop/Event_Extraction/model/scorer_output.txt\""
   ]
  },
  {
   "cell_type": "code",
   "execution_count": null,
   "metadata": {
    "executionInfo": {
     "elapsed": 5,
     "status": "ok",
     "timestamp": 1654540229156,
     "user": {
      "displayName": "Gaganjot Shan",
      "userId": "18300755219130239353"
     },
     "user_tz": -120
    },
    "id": "QUoxWc1OZH93"
   },
   "outputs": [],
   "source": [
    "def get_mask_entities(x):\n",
    "    ''' 1 for entity words, 0 otherwise '''\n",
    "    \n",
    "    ret = np.zeros_like(x)\n",
    "    #print(\"get_mask shape\", ret.shape)\n",
    "    # e1s 2409\n",
    "    # e1e 2408\n",
    "    # e2s 2411\n",
    "    # e2e 2410\n",
    "    for i in range(x.shape[0]): \n",
    "        e1 = [0, 0]\n",
    "        e2 = [0, 0]\n",
    "        for j in range(x.shape[1]):\n",
    "            if x[i][j] == 2409:\n",
    "                e1[0] = j\n",
    "            elif x[i][j] == 2408: \n",
    "                e1[1] = j\n",
    "            elif x[i][j] == 2411: \n",
    "                e2[0] = j\n",
    "            elif x[i][j] == 2410: \n",
    "                e2[1] = j\n",
    "                break\n",
    "        for j in range(e1[0]+1, e1[1]): \n",
    "            ret[i][j] = 1\n",
    "        for j in range(e2[0]+1, e2[1]): \n",
    "            ret[i][j] = 1\n",
    "        #print(ret[i][e1[0]:e1[1]+1], x[i][e1[0]:e1[1]+1])\n",
    "    \n",
    "    return ret"
   ]
  },
  {
   "cell_type": "code",
   "execution_count": null,
   "metadata": {
    "colab": {
     "base_uri": "https://localhost:8080/"
    },
    "executionInfo": {
     "elapsed": 4,
     "status": "ok",
     "timestamp": 1654540229155,
     "user": {
      "displayName": "Gaganjot Shan",
      "userId": "18300755219130239353"
     },
     "user_tz": -120
    },
    "id": "HIp-wcpc2ENJ",
    "outputId": "b398a558-2f00-4980-c721-c099f41a4671"
   },
   "outputs": [],
   "source": [
    "# Data Loading\n",
    "from keras.datasets import imdb\n",
    "\n",
    "# save np.load\n",
    "# modify the default parameters of np.load\n",
    "np.load.__defaults__=(None, True, True, 'ASCII')\n",
    "\n",
    "# call load_data with allow_pickle implicitly set to true\n",
    "\n",
    "train_set, val_set, test_set, embedding, label_to_int, int_to_label =  np.load(data_npy_path)\n",
    "# restore np.load for future normal usage\n",
    "\n",
    "\n",
    "train_x, train_y = train_set\n",
    "val_x, val_y = val_set\n",
    "test_x, test_y = test_set\n",
    "\n",
    "train_x_copy = train_x\n",
    "train_y_copy = train_y\n",
    "\n",
    "max_sentence_len = train_x.shape[1]\n",
    "n_out = len(label_to_int)\n",
    "\n",
    "print(\"train_x.shape\", train_x.shape)\n",
    "print(\"train_y.shape\", train_y.shape)\n",
    "print(\"val_x.shape\", val_x.shape)\n",
    "print(\"val_y.shape\", val_y.shape)\n",
    "print(\"test_x.shape\", test_x.shape)\n",
    "print(\"test_y.shape\", test_y.shape)\n",
    "print(\"embedding.shape\", embedding.shape)\n",
    "print(\"len(label_to_int)\", len(label_to_int))\n",
    "print(\"len(int_to_label)\", len(int_to_label))\n",
    "print(\"max_sentence_len\", max_sentence_len)\n",
    "print(\"n_out\", n_out)\n",
    "print()"
   ]
  },
  {
   "cell_type": "code",
   "execution_count": null,
   "metadata": {
    "colab": {
     "base_uri": "https://localhost:8080/"
    },
    "executionInfo": {
     "elapsed": 12599,
     "status": "ok",
     "timestamp": 1654540241751,
     "user": {
      "displayName": "Gaganjot Shan",
      "userId": "18300755219130239353"
     },
     "user_tz": -120
    },
    "id": "0w7Xil-uZLZX",
    "outputId": "05b11200-cfa2-4e33-8243-c36e1dfd297b"
   },
   "outputs": [],
   "source": [
    "train_x_mask = get_mask_entities(train_x)\n",
    "train_x_mask_copy = train_x_mask\n",
    "val_x_mask = get_mask_entities(val_x)\n",
    "test_x_mask = get_mask_entities(test_x)\n",
    "\n",
    "print(\"train_x_mask.shape\", train_x_mask.shape)\n",
    "print(\"train_x_mask_copy.shape\", train_x_mask_copy.shape)\n",
    "print(\"val_x_mask.shape\", val_x_mask.shape)\n",
    "print(\"test_x_mask.shape\", test_x_mask.shape)"
   ]
  },
  {
   "cell_type": "code",
   "execution_count": null,
   "metadata": {
    "colab": {
     "base_uri": "https://localhost:8080/"
    },
    "executionInfo": {
     "elapsed": 27,
     "status": "ok",
     "timestamp": 1654540241752,
     "user": {
      "displayName": "Gaganjot Shan",
      "userId": "18300755219130239353"
     },
     "user_tz": -120
    },
    "id": "uUoCPxdYZcPn",
    "outputId": "f4643793-5395-4cb9-d2f8-b01e82fc6308"
   },
   "outputs": [],
   "source": [
    "# Parameters \n",
    "\n",
    "units = 64\n",
    "batch_size = 128 #10\n",
    "dropout_emb = 0.64\n",
    "dropout_model = 0.32\n",
    "dropout_pen = 0.32\n",
    "l2_val = 0.00001\n",
    "learning_rate = 1.0\n",
    "activation_fn = 'tanh'\n",
    "nb_epoch = 256\n",
    "adadelta = tf.optimizers.Adadelta(lr=learning_rate, decay=0.0)\n",
    "save_model = True\n",
    "es_epoch_stop = 20\n",
    "\n",
    "print(\"units\", units)\n",
    "print(\"batch_size\", batch_size)\n",
    "print(\"dropout_emb\", dropout_emb)\n",
    "print(\"dropout_model\", dropout_model)\n",
    "print(\"dropout_pen\", dropout_pen)\n",
    "print(\"l2_val\", l2_val)\n",
    "print(\"learning_rate\", learning_rate)\n",
    "print(\"activation_fn\", activation_fn)\n",
    "print(\"nb_epoch\", nb_epoch)\n",
    "print(\"adadelta\", adadelta)\n",
    "print(\"save_model\", save_model)\n",
    "print(\"es_epoch_stop\", es_epoch_stop)\n",
    "print()\n",
    "\n",
    "embeddings_reg = regularizers.l2(l2_val)\n",
    "kernel_reg = regularizers.l2(l2_val)\n",
    "recurrent_reg = regularizers.l2(l2_val)"
   ]
  },
  {
   "cell_type": "code",
   "execution_count": null,
   "metadata": {
    "executionInfo": {
     "elapsed": 21,
     "status": "ok",
     "timestamp": 1654540241752,
     "user": {
      "displayName": "Gaganjot Shan",
      "userId": "18300755219130239353"
     },
     "user_tz": -120
    },
    "id": "Ba5gou34ZwQz"
   },
   "outputs": [],
   "source": [
    "class MaskMaxPoolingLayer(Layer):\n",
    "    # input_shape [(None, 101, 600), (None, 101)]\n",
    "    # input:  (?, 101, 600) (?, 101)\n",
    "    # output: (?, 600)\n",
    "    \n",
    "    def __init__(self, **kwargs):\n",
    "        super(MaskMaxPoolingLayer, self).__init__(**kwargs)\n",
    "    \n",
    "    def build(self, input_shape):\n",
    "        super(MaskMaxPoolingLayer, self).build(input_shape)  # Be sure to call this somewhere!\n",
    "\n",
    "    def call(self, x):\n",
    "        x_1_float32 = K.cast(x[1], dtype='float32')\n",
    "        #print(\"x_1_float32\", x_1_float32)\n",
    "        x_0 = K.permute_dimensions(x[0], pattern=[2, 0, 1])\n",
    "        #print(\"x_0\", x_0)\n",
    "        x_0 = tf.multiply(x_0, x_1_float32)\n",
    "        #print(\"x_0\", x_0)\n",
    "        x_0 = K.permute_dimensions(x_0, pattern=[1, 2, 0])\n",
    "        #print(\"x_0\", x_0)\n",
    "        x_0 = K.max(x_0, axis=-2)\n",
    "        #print(\"x_0\", x_0)\n",
    "        return x_0\n",
    "    \n",
    "    def compute_output_shape(self, input_shape):\n",
    "        # input_shape [(None, 101, 600), (None, 101)]\n",
    "        return (input_shape[0][0], input_shape[0][-1])"
   ]
  },
  {
   "cell_type": "code",
   "execution_count": null,
   "metadata": {
    "colab": {
     "base_uri": "https://localhost:8080/"
    },
    "executionInfo": {
     "elapsed": 987,
     "status": "ok",
     "timestamp": 1654540242718,
     "user": {
      "displayName": "Gaganjot Shan",
      "userId": "18300755219130239353"
     },
     "user_tz": -120
    },
    "id": "a6qIV3Nkp7Da",
    "outputId": "52d5397a-64d9-432d-96d9-d19f0ead3f49"
   },
   "outputs": [],
   "source": [
    "words_input = Input(shape=(max_sentence_len,), dtype='int32', name='words_input')\n",
    "words_input_mask = Input(shape=(max_sentence_len,), dtype='int32', name='words_input_mask')\n",
    "\n",
    "words = Embedding(embedding.shape[0], embedding.shape[1], weights=[embedding], trainable=True, embeddings_regularizer=embeddings_reg, name=\"words_Embedding\")(words_input)\n",
    "words = Dropout(dropout_emb)(words)\n",
    "\n",
    "output = Convolution1D(filters=256, kernel_size=3, activation=activation_fn, padding='same', strides=1, kernel_regularizer=kernel_reg)(words)\n",
    "output = Dropout(dropout_model)(output)\n",
    "\n",
    "output = Bidirectional( CuDNNGRU(units, return_sequences=True, recurrent_regularizer=recurrent_reg), merge_mode='concat') (output)\n",
    "output_h = Activation('tanh') (output)\n",
    "\n",
    "output1 = GlobalMaxPooling1D()(output_h) \n",
    "output2 = MaskMaxPoolingLayer()([output_h, words_input_mask]) \n",
    "\n",
    "output = Dense(1, kernel_regularizer=kernel_reg)(output_h)\n",
    "output = Permute((2, 1))(output)\n",
    "output = Activation('softmax', name=\"attn_softmax\")(output)\n",
    "output = Lambda(lambda x: tf.matmul(x[0], x[1])) ([output, output_h])\n",
    "output3 = Flatten() (output)\n",
    "\n",
    "output = Concatenate()([output1, output2, output3])\n",
    "output = Dropout(dropout_pen)(output)\n",
    "\n",
    "output = Dense(300, kernel_regularizer=kernel_reg, activation='relu')(output)\n",
    "output = Dense(n_out, kernel_regularizer=kernel_reg)(output)\n",
    "output = Activation('softmax')(output)\n",
    "\n",
    "model = Model(inputs=[words_input, words_input_mask], outputs=[output])\n",
    "model.compile(loss='sparse_categorical_crossentropy', optimizer=adadelta, metrics=['accuracy'])\n",
    "model.summary(line_length=120)"
   ]
  },
  {
   "cell_type": "code",
   "execution_count": null,
   "metadata": {
    "executionInfo": {
     "elapsed": 4,
     "status": "ok",
     "timestamp": 1654540242719,
     "user": {
      "displayName": "Gaganjot Shan",
      "userId": "18300755219130239353"
     },
     "user_tz": -120
    },
    "id": "EX-3X7w-Km9D"
   },
   "outputs": [],
   "source": [
    "# Evaluation functions \n",
    "\n",
    "def get_precision(test_y_pred, test_y, label): \n",
    "    label_count = 0\n",
    "    label_count_correct = 0\n",
    "    \n",
    "    for i in range(len(test_y_pred)):\n",
    "        if test_y_pred[i] == label: \n",
    "            label_count += 1 \n",
    "            if test_y_pred[i] == test_y[i]: \n",
    "                label_count_correct += 1\n",
    "    \n",
    "    if label_count_correct == 0: \n",
    "        return 0.0\n",
    "    else: \n",
    "        ret = float(label_count_correct) / float(label_count)\n",
    "        return ret\n",
    "        \n",
    "\n",
    "def get_macro_f1(test_y_pred, test_y, n_out):\n",
    "    f1_sum = 0\n",
    "    f1_count = 0\n",
    "    for label in range(1, n_out):        \n",
    "        prec = get_precision(test_y_pred, test_y, label)\n",
    "        recall = get_precision(test_y, test_y_pred, label)\n",
    "        f1 = 0 if float(prec+recall)==float(0) else float(2*prec*recall/float(prec+recall))\n",
    "        f1_sum += f1\n",
    "        f1_count += 1\n",
    "    macro_f1 = float(f1_sum) / float(f1_count)    \n",
    "    return macro_f1\n",
    "    \n",
    "\n",
    "def get_accuracy(test_y_pred, test_y):\n",
    "    acc =  float(np.sum(test_y_pred == test_y)) / float(len(test_y))\n",
    "    return acc\n",
    "    \n",
    "    \n",
    "def predict_classes(prediction):\n",
    "    return prediction.argmax(axis=-1)\n",
    "\n",
    "\n",
    "def get_PRF1_semeval(y_pred, answer_key):\n",
    "    \n",
    "    f_out = open(proposed_ans, 'w')\n",
    "    for i in range(len(y_pred)):\n",
    "        f_out.write(str(i+1) + \"\\t\" + int_to_label[y_pred[i]] + \"\\n\" )\n",
    "    f_out.close()\n",
    "    \n",
    "    if os.name == 'nt': \n",
    "        os.system(perl_exe_path + \" \" + scorer_perl_script + \" \" + proposed_ans + \" \" + answer_key + \" > \" + scorer_output)\n",
    "    else: \n",
    "        os.system(\"perl \" + \" \" + scorer_perl_script + \" \" + proposed_ans + \" \" + answer_key + \" > \" + scorer_output)\n",
    "        \n",
    "    f_in = open(scorer_output, 'r')\n",
    "    lines = f_in.readlines()\n",
    "    f_in.close()\n",
    "    \n",
    "    lines = [ l  for l in lines[-30:] if l.strip() != '']\n",
    "        \n",
    "    acc = float(lines[-17].strip().split()[-1][:-1]) / 100.0\n",
    "    PRF1 = lines[-2].strip().split()\n",
    "    P = float(PRF1[2][:-1]) / 100.0\n",
    "    R = float(PRF1[5][:-1]) / 100.0\n",
    "    macro_f1 = float(PRF1[8][:-1]) / 100.0\n",
    "    \n",
    "    return (acc, P, R, macro_f1)"
   ]
  },
  {
   "cell_type": "code",
   "execution_count": null,
   "metadata": {
    "colab": {
     "base_uri": "https://localhost:8080/",
     "height": 907
    },
    "executionInfo": {
     "elapsed": 4469,
     "status": "error",
     "timestamp": 1654540247185,
     "user": {
      "displayName": "Gaganjot Shan",
      "userId": "18300755219130239353"
     },
     "user_tz": -120
    },
    "id": "wjHYqqI7K3yq",
    "outputId": "0447e7c5-7a5e-49ee-e6e9-17df91cc28f5"
   },
   "outputs": [],
   "source": [
    "print(\"Start training... \\n\")\n",
    "\n",
    "# train_x = train_x[:200]\n",
    "# train_y = train_y[:200]\n",
    "# train_x_copy = train_x_copy[:200]\n",
    "# train_y_copy = train_y_copy[:200]\n",
    "# val_x = val_x[:200]\n",
    "# val_y = val_y[:200]\n",
    "# test_x = test_x[:200]\n",
    "# test_y = test_y[:200]\n",
    "\n",
    "\n",
    "train_max_acc = 0\n",
    "train_max_f1 = 0\n",
    "val_max_acc = 0\n",
    "val_max_f1 = 0\n",
    "test_max_acc = 0\n",
    "test_max_f1 = 0\n",
    "\n",
    "test_f1_final = 0\n",
    "test_f1_final_max = 0\n",
    "\n",
    "es_epoch = 0 \n",
    "\n",
    "for epoch in range(nb_epoch):\n",
    "    print(\"Epoch: \", epoch+1, \"/\", nb_epoch)\n",
    "    es_epoch += 1\n",
    "    if es_epoch > es_epoch_stop:\n",
    "        print(\"Early Stopping...\") \n",
    "        break\n",
    "    \n",
    "    index = np.arange(len(train_x))\n",
    "    np.random.shuffle(index)\n",
    "    train_x = train_x[index]\n",
    "    train_x_mask = train_x_mask[index]\n",
    "    train_y = train_y[index]\n",
    "    \n",
    "    # Input lists for fit and predict\n",
    "    #\n",
    "    train_input_list = [train_x, train_x_mask]\n",
    "    train_input_list_copy = [train_x_copy, train_x_mask_copy]\n",
    "    val_input_list = [val_x, val_x_mask]\n",
    "    test_input_list = [test_x, test_x_mask]\n",
    "    #train_input_list = [train_x]\n",
    "    #train_input_list_copy = [train_x_copy]\n",
    "    #val_input_list = [val_x]\n",
    "    #test_input_list = [test_x]\n",
    "\n",
    "    \n",
    "    model.fit(train_input_list, train_y, batch_size=batch_size, verbose=1, epochs=1) \n",
    "    \n",
    "    train_y_pred = predict_classes(model.predict(train_input_list_copy, verbose=1))\n",
    "    val_y_pred = predict_classes(model.predict(val_input_list, verbose=1))\n",
    "    test_y_pred = predict_classes(model.predict(test_input_list, verbose=1))\n",
    "    \n",
    "    train_PRF1 = get_PRF1_semeval(train_y_pred, train_answer_key)\n",
    "    val_PRF1 = get_PRF1_semeval(val_y_pred, val_answer_key)\n",
    "    test_PRF1 = get_PRF1_semeval(test_y_pred, test_answer_key)\n",
    "\n",
    "    train_max_f1 = max(train_max_f1, train_PRF1[3])\n",
    "    val_max_f1 = max(val_max_f1, val_PRF1[3])\n",
    "    test_max_f1 = max(test_max_f1, test_PRF1[3])\n",
    "\n",
    "    train_max_acc = max(train_max_acc, train_PRF1[0])\n",
    "    val_max_acc = max(val_max_acc, val_PRF1[0])\n",
    "    test_max_acc = max(test_max_acc, test_PRF1[0])\n",
    "    \n",
    "    if val_max_f1 == val_PRF1[3]: \n",
    "        test_f1_final = test_PRF1[3]\n",
    "        test_f1_final_max = max(test_f1_final, test_f1_final_max)\n",
    "        if save_model : \n",
    "            model_file_name = \"model.keras\"\n",
    "            model.save('./model/' + model_file_name)\n",
    "            print(\"Model saved\", model_file_name)\n",
    "        es_epoch = 0\n",
    "    \n",
    "    print(\"Train Accuracy: %.4f (max: %.4f)\" % (train_PRF1[0], train_max_acc))\n",
    "    print(\"Val   Accuracy: %.4f (max: %.4f)\" % (val_PRF1[0], val_max_acc))\n",
    "    print(\"Test  Accuracy: %.4f (max: %.4f)\" % (test_PRF1[0], test_max_acc))\n",
    "    \n",
    "    print(\"Train Macro F1 Semeval Official: %.4f (max: %.4f)\" % (train_PRF1[3], train_max_f1))\n",
    "    print(\"Val   Macro F1 Semeval Official: %.4f (max: %.4f)\" % (val_PRF1[3], val_max_f1))\n",
    "    print(\"Test  Macro F1 Semeval Official: %.4f (max: %.4f)\" % (test_PRF1[3], test_max_f1))\n",
    "    print(\"Test P %.4f | R %.4f | macro_F1: %.4f\" % test_PRF1[1:] )\n",
    "    print(\"Test test_max_f1_final: %.4f (max: %.4f)\" % (test_f1_final, test_f1_final_max) )\n",
    "        \n",
    "    print()"
   ]
  }
 ],
 "metadata": {
  "colab": {
   "collapsed_sections": [],
   "name": "Neural_Rel_classification.ipynb",
   "provenance": []
  },
  "kernelspec": {
   "display_name": "Python 3 (ipykernel)",
   "language": "python",
   "name": "python3"
  },
  "language_info": {
   "codemirror_mode": {
    "name": "ipython",
    "version": 3
   },
   "file_extension": ".py",
   "mimetype": "text/x-python",
   "name": "python",
   "nbconvert_exporter": "python",
   "pygments_lexer": "ipython3",
   "version": "3.9.7"
  }
 },
 "nbformat": 4,
 "nbformat_minor": 1
}
